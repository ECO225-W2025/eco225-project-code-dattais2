{
 "cells": [
  {
   "cell_type": "markdown",
   "id": "f9a0d9dc-b307-411b-ae49-c428c85f7675",
   "metadata": {},
   "source": [
    "# **Academic Achievement Gaps by Race: Are \"Socioeconomic Differences\" to Blame?**\n",
    "## Project 1\n",
    "by Ishan Datta"
   ]
  },
  {
   "cell_type": "markdown",
   "id": "0c22c19a-a816-4ddb-8e18-1d056acead94",
   "metadata": {},
   "source": [
    "## Introduction\n",
    "\n",
    "Here is the literature **review(?)**:\n",
    "\n",
    "In the United States, the debate on academic achievement by race has been a hot topic, both in academic writing and in modern contexts in relation to policies like affirmative action and the ability of standardized tests like the Scholastic Aptitude Test (SAT) to properly measure academic merit.\n",
    "\n",
    "One of the most prominent arguments in modern circles is to argue that disparities in race are the result of economic disadvantages - that is, white people perform better because they have access to more resources than other races. In academic circles, this type of debate started with the \n",
    "\n",
    "\n",
    "To address this question, I looked at 2019 U.S. school data. Though"
   ]
  },
  {
   "cell_type": "markdown",
   "id": "8086d042-4e83-498b-8952-5e1fa0c57d59",
   "metadata": {},
   "source": [
    "## Data Loading and Cleaning\n",
    "\n",
    "Using the datasets mentioned in the introduction, we select variables to use in our analysis.\n",
    "\n",
    "Our main \"X variable\" is race\n",
    "\n",
    "For the economic advantages we want to analyze, we choose a few variables: student-to-teacher ratio, absolute and relative spending on students, and household income by race.\n",
    "\n",
    "The first variable - student-to-teacher ratio - is chosen to account for the intuitive notion that students in lower studen-to-teacher ratio schools will tend to perform better academically due to more personal attention. The next two variables are to account for economic advantages provided to students by the school - since certain school districts have more money and resources than others. It's important, however, to have both absolute and relative costs per student, since the amount of money a student needs need not be constant across the U.S. To address this, the DCD database also provides a predicted cost per student to have an adequete education, which we can use as a relative comparison to absolute spending per student. Including both absolute and relative spending on students allows for more meaningful insights. Finally, we have income values by race to account for differences in economic advantages at home. It intuitively follows that higher household income leads to higher academic performance due to the extra time, money and resources higher income households can often funnel towards a child's education.\n",
    "\n",
    "While it would be convenient to analyze SAT data, we did not use it in this project. This is for two reasons: First, I cannot access district-specific SAT data, as College Board, the U.S. institution that facilitates the SAT, does not publicly disclose that data. Secondly, even if I had access to that data, it would only be meaningful in analyzing high schools and wouldn't include meaningful insights from academic performance in elementary and/or middle schools.\n",
    "**Note to self: might cut this paragraph**"
   ]
  },
  {
   "cell_type": "code",
   "execution_count": 117,
   "id": "66019f44-83f7-43d1-a33d-b7d796c39dc9",
   "metadata": {},
   "outputs": [],
   "source": [
    "import pandas as pd\n",
    "import numpy as np\n"
   ]
  },
  {
   "cell_type": "markdown",
   "id": "428577b2-6065-40b2-8034-853fef328938",
   "metadata": {},
   "source": [
    "## Summary Statistics\n",
    "\n",
    "First we import the data for 2019."
   ]
  },
  {
   "cell_type": "code",
   "execution_count": 163,
   "id": "232ebf13-a516-4653-88a5-321348c5a7eb",
   "metadata": {},
   "outputs": [
    {
     "name": "stderr",
     "output_type": "stream",
     "text": [
      "C:\\Users\\idatt\\AppData\\Local\\Temp\\ipykernel_16312\\1212598813.py:10: DtypeWarning: Columns (2,3,34,35,66,67,98,99) have mixed types. Specify dtype option on import or set low_memory=False.\n",
      "  acs19 = pd.read_csv(r\"Data\\2018-2019\\ACS 2019\\ACSST5Y2019.S1901-Data.csv\")\n"
     ]
    },
    {
     "data": {
      "text/plain": [
       "year             0\n",
       "leaid            0\n",
       "district         0\n",
       "state_name       0\n",
       "stabbr           0\n",
       "ppcstot          0\n",
       "predcost         0\n",
       "fundinggap       0\n",
       "outcomegap    1727\n",
       "enroll           0\n",
       "pov              0\n",
       "iep            176\n",
       "ell              0\n",
       "amind            0\n",
       "asian            0\n",
       "black            0\n",
       "hisp             0\n",
       "multi            0\n",
       "pac              0\n",
       "white            0\n",
       "dtype: int64"
      ]
     },
     "execution_count": 163,
     "metadata": {},
     "output_type": "execute_result"
    }
   ],
   "source": [
    "# Importing data for 2019 analysis\n",
    "\n",
    "# Public School Characteristics for the 2018-19 school year\n",
    "psc19 = pd.read_csv(r\"Data\\2018-2019\\Public_School_Characteristics_2018-19.csv\")\n",
    "# District Cost Database 2024\n",
    "dcd = pd.read_csv(r\"Data\\DistrictCostDatabase_2024.csv\")\n",
    "# Stanford Education Data Archive 2023\n",
    "seda = pd.read_csv(r\"Data\\seda2023_admindist_poolsub_gys_updated_20240205.csv\")\n",
    "# American Community Survey Data 2019\n",
    "acs19 = pd.read_csv(r\"Data\\2018-2019\\ACS 2019\\ACSST5Y2019.S1901-Data.csv\")\n",
    "# \"DtypeWarning: Columns (2,3,34,35,66,67,98,99) have mixed types. Specify dtype option on import or set low_memory=False.\"\n",
    "\n",
    "# Filtering out irrelevant data\n",
    "psc19 = psc19.drop(['X', 'Y', 'OBJECTID', 'SURVYEAR', 'ST_LEAID', 'SCH_NAME', 'LSTREET1', 'LSTREET2', 'LZIP4', 'PHONE'], axis=1)\n",
    "seda = seda[seda['subgroup'] == 'all']\n",
    "# NOTE TO SELF: Maybe delete to see how incomplete the race data is\n",
    "seda19 = seda[list(seda.columns[0:6]) + list(seda.columns[21:26])]\n",
    "# ['fips', 'stateabb', 'sedaadmin', 'sedaadminname', 'subject', 'subgroup', 'gys_mn_2019_ol',\n",
    "#'gys_mn_2019_ol_se_unadj', 'gys_mn_2019_ol_se_adj', 'gys_mn_2019_eb_se_adj', 'gys_mn_2019_eb']\n",
    "dcd19 = dcd[dcd['year'] == 2019]\n",
    "\n",
    "\n",
    "grades = list(psc19.columns[23:40]) # ['PK', 'KG', 'G01', 'G02', ..., 'G13', 'UG', 'AE']\n",
    "psc19[grades] = psc19[grades].fillna(0)\n",
    "\n",
    "\n",
    "\n",
    "\n",
    "# X variables:\n",
    "    # student-to-teacher ratio, % white distribution (school), median income (ZIP), \n",
    "    # spending per student (district), student-to-teacher ratio (school), free and reduced lunch (school),\n",
    "    # poverty rates (district or ZIP)\n",
    "    # potential future vars: year, walkability\n",
    "# Y variable: academic performance (NAEP, also using DCD data before 2022)\n",
    "# for summary stats, describe() is a good start, but also include some interpretation(?)"
   ]
  },
  {
   "cell_type": "code",
   "execution_count": 171,
   "id": "9c31ce31-4dba-4ca5-9eb3-bf7104cb4202",
   "metadata": {},
   "outputs": [
    {
     "data": {
      "text/plain": [
       "year             0\n",
       "leaid            0\n",
       "district         0\n",
       "state_name       0\n",
       "stabbr           0\n",
       "ppcstot          0\n",
       "predcost         0\n",
       "fundinggap       0\n",
       "outcomegap    1727\n",
       "enroll           0\n",
       "pov              0\n",
       "iep            176\n",
       "ell              0\n",
       "amind            0\n",
       "asian            0\n",
       "black            0\n",
       "hisp             0\n",
       "multi            0\n",
       "pac              0\n",
       "white            0\n",
       "dtype: int64"
      ]
     },
     "execution_count": 171,
     "metadata": {},
     "output_type": "execute_result"
    }
   ],
   "source": [
    "len(dcd19)\n",
    "dcd19.isna().sum()\n"
   ]
  },
  {
   "cell_type": "markdown",
   "id": "919642ae-f2b8-4a1f-a6a9-724e02585cfa",
   "metadata": {},
   "source": [
    "## Plots, Histograms, and Figures\n",
    "\n",
    "We show different visualizations of our data"
   ]
  },
  {
   "cell_type": "markdown",
   "id": "ff7dc77f-0002-49f0-a575-547084447fe1",
   "metadata": {},
   "source": [
    "## Conclusion + Next Steps\n",
    "\n",
    "\n",
    "\n",
    "\n",
    "\n",
    "As time goes on, I intend to also analyze data from different school years (notably, 2017-18 and 2021-22), look for more informative and specific data sources for my sources (in particular, school district financial data and family income), as well as integrating other tools from the course for more meaningful analysis."
   ]
  },
  {
   "cell_type": "markdown",
   "id": "f613eaef-40ea-4d9d-bbcb-9e503eec4f8a",
   "metadata": {},
   "source": [
    "### Citations\n",
    "All citations are in APA style.\n",
    "\n",
    "Main Paper (denoted with 0):\n",
    "\n",
    "\n",
    "\n",
    "Other Papers (Sorted Alphabetically):\n"
   ]
  }
 ],
 "metadata": {
  "kernelspec": {
   "display_name": "Python [conda env:base] *",
   "language": "python",
   "name": "conda-base-py"
  },
  "language_info": {
   "codemirror_mode": {
    "name": "ipython",
    "version": 3
   },
   "file_extension": ".py",
   "mimetype": "text/x-python",
   "name": "python",
   "nbconvert_exporter": "python",
   "pygments_lexer": "ipython3",
   "version": "3.12.7"
  }
 },
 "nbformat": 4,
 "nbformat_minor": 5
}
