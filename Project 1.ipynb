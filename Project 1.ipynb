{
 "cells": [
  {
   "cell_type": "markdown",
   "id": "f9a0d9dc-b307-411b-ae49-c428c85f7675",
   "metadata": {},
   "source": [
    "# **Academic Achievement Gaps by Race: Are Economic Differences to Blame?**\n",
    "## Project 1\n",
    "by Ishan Datta"
   ]
  },
  {
   "cell_type": "markdown",
   "id": "0c22c19a-a816-4ddb-8e18-1d056acead94",
   "metadata": {},
   "source": [
    "## Introduction\n",
    "\n",
    "When it comes to academic achievement, especially when measured by test scores, two major concerns arise in discussions of education inequality: discrepancies by race, and discrepancies by wealth. One study in particular - Dixon-RomÁN et. al (2013) - examined the relationship between race, income, and academic performance on the U.S.'s standardized Scholastic Aptitude Test (SAT). They found, somewhat unsurprisingly, a positive relationship between income and SAT performance. But there was also a gap between white and black student performance at every income level.\n",
    "\n",
    "There are a lot of interpretations on where that racial disparity comes from, with many researchers identify sociocultural contexts to race that correlate with academic outcomes. Osborne (1997) observes a sense of \"academic disidentification\" that is seen as a response to negative racial stereotypes, while Carter (2016) explores a case study recognizing social dynamics within school creating race-based academic disparities, even with similar socioeconomic backgrounds. Farkas (2004) argues that differences in academic inclination emerge due to differences in how black and white kids are raised before entering school.\n",
    "\n",
    "Students' socioeconomic advantages may have can be broadly divided into two categories: advantages from school, and advantages from home. Both types of advantages conceivably could influence academic performance, but the relationship between these two types of advantages adds another layer of nuance. Wodtke et. al (2023) suggests that these two types of advantages don't meaningfully overlap, so it may be meaningful to conduct analysis with both types of factors.\n",
    "\n",
    "For this project, I use data for the 2018-2019 school year. I use the National Center for Education Statistics (NCES) Public Schools Characteristics 2018-19 dataset as my primary catalog of U.S. public schools. My supplementary datasets are the Stanford Education Data Archive (SEDA) 2023, the District Costs Database (DCD) 2024, and the American Community Survey (ACS) 2019 data 5-Year Estimate S1901 dataset."
   ]
  },
  {
   "cell_type": "markdown",
   "id": "8086d042-4e83-498b-8952-5e1fa0c57d59",
   "metadata": {},
   "source": [
    "## Data Loading and Cleaning\n",
    "\n",
    "Using the datasets mentioned in the introduction, we select variables to use in our analysis.\n",
    "\n",
    "Our main independent \"X\" variable is race - more specifically, racial distributions by school, which can primarily be denoted by the white population %. Our main dependent \"Y\" variable is academic performance.\n",
    "\n",
    "Our other control \"X\" variables take into account economic factors from the school and outside it. School factors include student-to-teacher ratio and school spending per student, while our out-of-school factor is family income.\n",
    "\n",
    "One variable that falls somewhere in between is the % of free and reduced lunch students, since that is partly a result of a lack of family income but also partially reflective of the school's ability to financially support these students.\n",
    "\n",
    "For the economic advantages we want to analyze, we choose a few variables: student-to-teacher ratio, absolute and relative spending on students, and household income by race.\n",
    "\n",
    "The first variable - student-to-teacher ratio - is chosen to account for the intuitive notion that students in lower studen-to-teacher ratio schools will tend to perform better academically due to more personal attention. The next two variables are to account for economic advantages provided to students by the school - since certain school districts have more money and resources than others. It's important, however, to have both absolute and relative costs per student, since the amount of money a student needs need not be constant across the U.S. To address this, the DCD database also provides a predicted cost per student to have an adequete education, which we can use as a relative comparison to absolute spending per student. Including both absolute and relative spending on students allows for more meaningful insights. Finally, we have income values by race to account for differences in economic advantages at home. It intuitively follows that higher household income leads to higher academic performance due to the extra time, money and resources higher income households can often funnel towards a child's education.\n",
    "\n"
   ]
  },
  {
   "cell_type": "code",
   "execution_count": 1,
   "id": "785925da-9acc-4c96-91af-7fcb102529d9",
   "metadata": {},
   "outputs": [
    {
     "name": "stderr",
     "output_type": "stream",
     "text": [
      "C:\\Users\\idatt\\AppData\\Local\\Temp\\ipykernel_26208\\3406007937.py:17: DtypeWarning: Columns (2,3,34,35,66,67,98,99) have mixed types. Specify dtype option on import or set low_memory=False.\n",
      "  acs19 = pd.read_csv(r\"Data\\2018-2019\\ACS 2019\\ACSST5Y2019.S1901-Data.csv\")\n"
     ]
    }
   ],
   "source": [
    "import pandas as pd\n",
    "import numpy as np\n",
    "import matplotlib.pyplot as plt\n",
    "\n",
    "# Importing data for 2019 analysis\n",
    "\n",
    "# Public School Characteristics for the 2018-19 school year\n",
    "psc19 = pd.read_csv(r\"Data\\2018-2019\\Public_School_Characteristics_2018-19.csv\")\n",
    "\n",
    "# District Cost Database 2024\n",
    "dcd = pd.read_csv(r\"Data\\DistrictCostDatabase_2024.csv\")\n",
    "\n",
    "# Stanford Education Data Archive 2023\n",
    "seda = pd.read_csv(r\"Data\\seda2023_admindist_poolsub_gys_updated_20240205.csv\")\n",
    "\n",
    "# American Community Survey Data 2019\n",
    "acs19 = pd.read_csv(r\"Data\\2018-2019\\ACS 2019\\ACSST5Y2019.S1901-Data.csv\")"
   ]
  },
  {
   "cell_type": "code",
   "execution_count": 3,
   "id": "66019f44-83f7-43d1-a33d-b7d796c39dc9",
   "metadata": {},
   "outputs": [
    {
     "name": "stdout",
     "output_type": "stream",
     "text": [
      "Initial PSC19 size:  100719\n",
      "Initial SEDA19 size:  13653\n",
      "Initial ACS19 size:  33121\n",
      "Initial DCD19 size:  12005\n"
     ]
    }
   ],
   "source": [
    "# Filtering out irrelevant columns\n",
    "psc19 = psc19.drop(['X', 'Y', 'OBJECTID', 'SURVYEAR', 'ST_LEAID', 'SCH_NAME', 'LSTREET1', 'LSTREET2', 'LZIP4', 'PHONE', 'MAGNET_TEXT', 'VIRTUAL', 'TOTMENROL', 'TOTFENROL'], axis=1)\n",
    "print(\"Initial PSC19 size: \", len(psc19))\n",
    "\n",
    "seda = seda[seda['subgroup'] == 'all']\n",
    "seda19 = seda[list(seda.columns[2:3]) + list(seda.columns[4:6]) + list(seda.columns[21:26])]\n",
    "print(\"Initial SEDA19 size: \", len(seda19))\n",
    "\n",
    "acs19 = acs19[['NAME', 'S1901_C02_012E', 'S1901_C02_013E']]\n",
    "print(\"Initial ACS19 size: \", len(acs19))\n",
    "\n",
    "dcd19 = dcd[dcd['year'] == 2019]\n",
    "dcd19 = dcd19.drop(['year', 'district', 'state_name', 'stabbr'], axis=1)\n",
    "dcd19 = dcd19[list(dcd19.columns[0:7]) + list(dcd19.columns[8:9])]\n",
    "print(\"Initial DCD19 size: \", len(dcd19))"
   ]
  },
  {
   "cell_type": "markdown",
   "id": "1e50b8dd-56d0-4586-bd5c-f22172e16776",
   "metadata": {},
   "source": [
    "We then clean the data, removing and filling in incomplete data points. These processes removed a few thousand points, which may hinder further analysis, but the datasets are largely still intact."
   ]
  },
  {
   "cell_type": "code",
   "execution_count": 5,
   "id": "3023483f-c6ec-4ed1-addf-ed9ddd98180a",
   "metadata": {},
   "outputs": [
    {
     "name": "stdout",
     "output_type": "stream",
     "text": [
      "Final PSC19 size:  83475\n",
      "Final DCD19 size:  10278\n",
      "Final SEDA19 size:  13653\n",
      "Final ACS19 size:  30411\n"
     ]
    }
   ],
   "source": [
    "# cleaning incomplete data\n",
    "\n",
    "# cleaning PSC19\n",
    "psc_vals_to_rm = [-1, -2, -9, 'M', 'N'] # denotes that values are missing / data is incomplete\n",
    "psc19 = psc19[~psc19.isin(psc_vals_to_rm).any(axis=1)]\n",
    "\n",
    "# fill in grade school and race gaps\n",
    "grades = list(psc19.columns[21:38]) # ['PK', 'KG', 'G01', 'G02', ..., 'G13', 'UG', 'AE']\n",
    "races = list(psc19.columns[42:63])\n",
    "psc19[grades] = psc19[grades].fillna(0)\n",
    "psc19[races] = psc19[races].fillna(0)\n",
    "\n",
    "psc19['STUTERATIO'] = np.where(\n",
    "    psc19['MEMBER'].notna() & psc19['FTE'].notna(),  # Condition: both columns are non-missing\n",
    "    psc19['MEMBER'] / psc19['FTE'],                 # Calculate ratio if condition is True\n",
    "    psc19['STUTERATIO']                      # Keep original value if condition is False\n",
    ")\n",
    "psc19 = psc19.dropna()\n",
    "print(\"Final PSC19 size: \", len(psc19))\n",
    "\n",
    "# cleaning DCD19\n",
    "dcd19 = dcd19.dropna()\n",
    "print(\"Final DCD19 size: \", len(dcd19))\n",
    "\n",
    "\n",
    "# SEDA19 data is already cleaned, so there's nothing to do for it\n",
    "print(\"Final SEDA19 size: \", len(seda19))\n",
    "\n",
    "\n",
    "# cleaning ASC19\n",
    "acs19 = acs19.drop(0)\n",
    "acs19 = acs19[~acs19.apply(lambda row: '-' in row.values, axis=1)]\n",
    "acs19['NAME'] = acs19['NAME'].str.extract(r'(\\d{5})')\n",
    "print(\"Final ACS19 size: \", len(acs19))\n"
   ]
  },
  {
   "cell_type": "markdown",
   "id": "ec8c3edb-250a-4fdc-8592-09711d7cfa85",
   "metadata": {},
   "source": [
    "Finally, we can merge the datasets. The SEDA19 and DCD19 data are matched to schools by district, while the ACS19 data is matched to schools by ZIP code."
   ]
  },
  {
   "cell_type": "code",
   "execution_count": 38,
   "id": "da2fdb8e-72a1-4adf-9ac1-29d4d5fd4744",
   "metadata": {},
   "outputs": [
    {
     "name": "stderr",
     "output_type": "stream",
     "text": [
      "C:\\Users\\idatt\\AppData\\Local\\Temp\\ipykernel_26208\\474958582.py:2: SettingWithCopyWarning: \n",
      "A value is trying to be set on a copy of a slice from a DataFrame\n",
      "\n",
      "See the caveats in the documentation: https://pandas.pydata.org/pandas-docs/stable/user_guide/indexing.html#returning-a-view-versus-a-copy\n",
      "  seda19.rename(columns={'sedaadmin': 'LEAID'}, inplace=True)\n",
      "C:\\Users\\idatt\\AppData\\Local\\Temp\\ipykernel_26208\\474958582.py:3: SettingWithCopyWarning: \n",
      "A value is trying to be set on a copy of a slice from a DataFrame.\n",
      "Try using .loc[row_indexer,col_indexer] = value instead\n",
      "\n",
      "See the caveats in the documentation: https://pandas.pydata.org/pandas-docs/stable/user_guide/indexing.html#returning-a-view-versus-a-copy\n",
      "  seda19['LEAID'] = pd.to_numeric(seda19['LEAID'], errors='coerce').astype('Int64')\n",
      "C:\\Users\\idatt\\AppData\\Local\\Temp\\ipykernel_26208\\474958582.py:10: SettingWithCopyWarning: \n",
      "A value is trying to be set on a copy of a slice from a DataFrame.\n",
      "Try using .loc[row_indexer,col_indexer] = value instead\n",
      "\n",
      "See the caveats in the documentation: https://pandas.pydata.org/pandas-docs/stable/user_guide/indexing.html#returning-a-view-versus-a-copy\n",
      "  seda19['LEAID'] = seda19['LEAID'].apply(add_zero)\n"
     ]
    },
    {
     "name": "stdout",
     "output_type": "stream",
     "text": [
      "Final Dataset Size:  115347\n"
     ]
    }
   ],
   "source": [
    "\n",
    "# merge SEDA19\n",
    "seda19.rename(columns={'sedaadmin': 'LEAID'}, inplace=True)\n",
    "seda19['LEAID'] = pd.to_numeric(seda19['LEAID'], errors='coerce').astype('Int64')\n",
    "seda19.head()\n",
    "def add_zero(x):\n",
    "    if pd.notna(x) and 99999 < x < 1000000:  # Check if x is an integer and a 6-digit number\n",
    "        return int(f'0{x}')  # Add a leading zero\n",
    "    return x  # Return the original value if not a 6-digit integer\n",
    "\n",
    "seda19['LEAID'] = seda19['LEAID'].apply(add_zero)\n",
    "\n",
    "df19 = psc19.merge(seda19, on=\"LEAID\", how = 'inner')\n",
    "\n",
    "\n",
    "# merge DCD19\n",
    "dcd19.rename(columns={'leaid': 'LEAID'}, inplace=True)\n",
    "\n",
    "df19 = df19.merge(dcd19, on=\"LEAID\", how = 'inner')\n",
    "\n",
    "\n",
    "# merge ACS19\n",
    "\n",
    "\n",
    "acs19.rename(columns={'NAME': 'LZIP'}, inplace=True)\n",
    "type(acs19['LZIP'])\n",
    "acs19['LZIP'] = pd.to_numeric(acs19['LZIP'])\n",
    "df19 = df19.merge(acs19, on=\"LZIP\", how = 'inner')\n",
    "\n",
    "print(\"Final Dataset Size: \", df19.index.size)"
   ]
  },
  {
   "cell_type": "markdown",
   "id": "428577b2-6065-40b2-8034-853fef328938",
   "metadata": {},
   "source": [
    "## Summary Statistics\n",
    "\n",
    "Now that all our data is merged into one dataset, we can easily pull out summary statistics."
   ]
  },
  {
   "cell_type": "markdown",
   "id": "94f9034c-6f10-4de6-bc99-3997f6fb5d33",
   "metadata": {},
   "source": [
    "We can then summarize our measures of academic achievement."
   ]
  },
  {
   "cell_type": "code",
   "execution_count": 44,
   "id": "232ebf13-a516-4653-88a5-321348c5a7eb",
   "metadata": {},
   "outputs": [
    {
     "data": {
      "text/plain": [
       "count    115347.000000\n",
       "mean         -0.003297\n",
       "std           1.239601\n",
       "min          -4.562571\n",
       "25%          -0.893811\n",
       "50%           0.021778\n",
       "75%           0.760642\n",
       "max           5.123745\n",
       "Name: gys_mn_2019_ol, dtype: float64"
      ]
     },
     "execution_count": 44,
     "metadata": {},
     "output_type": "execute_result"
    }
   ],
   "source": [
    "# Summarizing Academic Performance\n",
    "\n",
    "df19['gys_mn_2019_ol'].describe()\n"
   ]
  },
  {
   "cell_type": "code",
   "execution_count": 46,
   "id": "a05f5bd2-a00b-4933-8eb2-d38942ddeef1",
   "metadata": {
    "scrolled": true
   },
   "outputs": [
    {
     "data": {
      "text/plain": [
       "count    115347.000000\n",
       "mean          0.010097\n",
       "std           1.237491\n",
       "min          -3.886482\n",
       "25%          -0.867196\n",
       "50%           0.024878\n",
       "75%           0.770271\n",
       "max           5.251099\n",
       "Name: gys_mn_2019_eb, dtype: float64"
      ]
     },
     "execution_count": 46,
     "metadata": {},
     "output_type": "execute_result"
    }
   ],
   "source": [
    "df19['gys_mn_2019_eb'].describe()"
   ]
  },
  {
   "cell_type": "code",
   "execution_count": 48,
   "id": "bbc05627-78b3-417d-8142-efd66b697166",
   "metadata": {},
   "outputs": [
    {
     "data": {
      "text/plain": [
       "count    115347.000000\n",
       "mean         -0.020167\n",
       "std           0.354989\n",
       "min          -1.123884\n",
       "25%          -0.273594\n",
       "50%          -0.010878\n",
       "75%           0.199523\n",
       "max           1.459755\n",
       "Name: outcomegap, dtype: float64"
      ]
     },
     "execution_count": 48,
     "metadata": {},
     "output_type": "execute_result"
    }
   ],
   "source": [
    "df19['outcomegap'].describe()"
   ]
  },
  {
   "cell_type": "markdown",
   "id": "b4518293-af46-42f9-ab47-c71c6c15ce17",
   "metadata": {},
   "source": []
  },
  {
   "cell_type": "markdown",
   "id": "3c1a1868-7621-45d9-ae61-b3213672a6cd",
   "metadata": {},
   "source": [
    "We can check the summary statistics of our two measures of family income by ZIP code: median income, and mean income."
   ]
  },
  {
   "cell_type": "code",
   "execution_count": null,
   "id": "432fa6e1-5478-4d24-88e5-8175c2388ad9",
   "metadata": {},
   "outputs": [],
   "source": [
    "# Histogram data template\n",
    "\n",
    "# Example data\n",
    "data1 = np.random.normal(0, 1, 1000)  # First variable\n",
    "data2 = np.random.normal(2, 1, 1000)  # Second variable\n",
    "\n",
    "# Create histograms\n",
    "plt.hist(data1, bins=30, alpha=0.5, label='Median Income', color='yellow')\n",
    "plt.hist(data2, bins=30, alpha=0.5, label='Mean Income', color='purple')\n",
    "\n",
    "# Add labels and legend\n",
    "plt.xlabel('Value')\n",
    "plt.ylabel('Frequency')\n",
    "plt.title('Histogram of Two Variables')\n",
    "plt.legend()\n",
    "\n",
    "# Show the plot\n",
    "plt.show()"
   ]
  },
  {
   "cell_type": "markdown",
   "id": "919642ae-f2b8-4a1f-a6a9-724e02585cfa",
   "metadata": {},
   "source": [
    "## Plots, Histograms, and Figures\n",
    "\n",
    "Below are some visualizations using the data we have."
   ]
  },
  {
   "cell_type": "markdown",
   "id": "ff7dc77f-0002-49f0-a575-547084447fe1",
   "metadata": {},
   "source": [
    "## Conclusion + Next Steps\n",
    "\n",
    "\n",
    "\n",
    "\n",
    "\n",
    "As time goes on, I intend to also analyze data from different school years (notably, 2017-18 and 2021-22), look for more informative and specific data sources for my sources (in particular, school district financial data and family income), as well as integrating other tools from the course for more meaningful analysis."
   ]
  },
  {
   "cell_type": "markdown",
   "id": "f613eaef-40ea-4d9d-bbcb-9e503eec4f8a",
   "metadata": {},
   "source": [
    "### Citations\n",
    "All citations are in APA style.\n",
    "\n",
    "Main Paper:\n",
    "\n",
    "Dixon-RomÁN, E. J., Everson, H. T., & Mcardle, J. J. (2013). Race, poverty and SAT scores: Modeling the influences of family income on black and white high school students’ sat performance. Teachers College Record: The Voice of Scholarship in Education, 115(4), 1–33. https://doi.org/10.1177/016146811311500406 \n",
    "\n",
    "Other Papers:\n",
    "\n",
    "1. Farkas, G. (2004). The black-white test score gap. Contexts, 3(2), 12–19. https://doi.org/10.1525/ctx.2004.3.2.12 \n",
    "\n",
    "2. Paterson, M., Parasnis, J., & Rendall, M. (2024). Gender, socioeconomic status, and numeracy test scores. Journal of Economic Behavior &amp; Organization, 227, 106751. https://doi.org/10.1016/j.jebo.2024.106751 \n",
    "\n",
    "3. Osborne, J. W. (1997). Race and academic disidentification. Journal of Educational Psychology, 89(4), 728–735. https://doi.org/10.1037//0022-0663.89.4.728 \n",
    "\n",
    "4. Prudence L. Carter. (2016). Educational Equality Is a Multifaceted Issue: Why We Must Understand the School’s Sociocultural Context for Student Achievement. RSF: The Russell Sage Foundation Journal of the Social Sciences, 2(5), 142–163. https://doi.org/10.7758/rsf.2016.2.5.07\n",
    "\n",
    "5. Wodtke, G. T., Yildirim, U., Harding, D. J., & Elwert, F. (2023). Are neighborhood effects explained by differences in school quality? American Journal of Sociology, 128(5), 1472–1528. https://doi.org/10.1086/724279\n"
   ]
  }
 ],
 "metadata": {
  "kernelspec": {
   "display_name": "Python [conda env:base] *",
   "language": "python",
   "name": "conda-base-py"
  },
  "language_info": {
   "codemirror_mode": {
    "name": "ipython",
    "version": 3
   },
   "file_extension": ".py",
   "mimetype": "text/x-python",
   "name": "python",
   "nbconvert_exporter": "python",
   "pygments_lexer": "ipython3",
   "version": "3.12.7"
  }
 },
 "nbformat": 4,
 "nbformat_minor": 5
}
